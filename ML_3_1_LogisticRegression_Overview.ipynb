{
 "cells": [
  {
   "cell_type": "markdown",
   "metadata": {},
   "source": [
    "Logistic Regression:\n",
    "1.\tLogistic Regression as a method for classification Problem\n",
    "2.\tExamples of binary classification problem -> i. spam vs Not Spam ii. Loan defaulter (Yes/No)\n",
    "iii. Disease Diagnosis  \n",
    "3.\tRegression problems where continuous value is predicted \n",
    "4.\tClassification problem where discreate value is predicted \n",
    "5.\tBinary classification has two classes 0 and 1\n",
    "6.\tCan not use the normal liner regression model on binary groups .it would not lead to a good fit\n",
    "7.\tSigmoid (Logistic) function takes any value as input and output is going to be between 0 and 1\n",
    "8.\t If anything below  of sigmoid function value =0.5 it results belongs to class 0 else class 1. 0.5 is cut-off value.\n",
    "9.\tWe can use confusion matrix to evaluate classification model(Logistic regression model)\n",
    "10.\tTP -> True Positive -> Means: Actual person has disease and Model Predicted as person has disease\n",
    "11.\tTN->True Negative->Means: Actual person does not have disease and model predicted  also person does not have disease \n",
    "12.\tFP->False Positive (Type 1 Error)-> Means: Actual person does not have disease and mode predicted that person has disease \n",
    "13.\tFN->False Negative(Type 2 Error) -> Means: Actual person has disease but model predicted that person does not have disease \n",
    "14.\tAccuracy =(TP+TN)/Total Predictions\n",
    "15.\tError rate=(FP+FN)/Total Predictions\n"
   ]
  },
  {
   "cell_type": "code",
   "execution_count": null,
   "metadata": {},
   "outputs": [],
   "source": []
  }
 ],
 "metadata": {
  "kernelspec": {
   "display_name": "Python 3",
   "language": "python",
   "name": "python3"
  },
  "language_info": {
   "codemirror_mode": {
    "name": "ipython",
    "version": 3
   },
   "file_extension": ".py",
   "mimetype": "text/x-python",
   "name": "python",
   "nbconvert_exporter": "python",
   "pygments_lexer": "ipython3",
   "version": "3.7.4"
  }
 },
 "nbformat": 4,
 "nbformat_minor": 2
}
