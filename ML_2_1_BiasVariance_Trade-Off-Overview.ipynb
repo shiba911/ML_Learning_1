{
 "cells": [
  {
   "cell_type": "markdown",
   "metadata": {},
   "source": [
    "Bias Variance Trade-off:\n",
    "- Understanding the model’s performance\n",
    "- Bias Variance Tarde-off is the point  where adding just noise by adding model complexity (Flexibility)\n",
    "- Training error goes down as it has to but test error is starting to go up\n",
    "-Model after the Bias Trade-off begins to overfit \n",
    "-Low Variance and Low Bias predict good result by models\n",
    "- Low Variance means -> all results are more closer to each other(low scatter)  Low Bias-> all results are near to target \n",
    "- Hight variance and high Bias -> Results are spread  all over (outliers)\n",
    "- Model complexity is low when model is high Bias and low variance(left). In this case ,Training dataset and test data set both has high prediction error \n",
    "- Model complexity is high when model is low Bias and high variance(right).In this case, Training dataset has low prediction error but test dataset ahs high prediction error\n",
    "- Left to the Bias Trade-Off is underfit however Right to the Bias Trade-off is overfit\n"
   ]
  },
  {
   "cell_type": "code",
   "execution_count": null,
   "metadata": {},
   "outputs": [],
   "source": []
  }
 ],
 "metadata": {
  "kernelspec": {
   "display_name": "Python 3",
   "language": "python",
   "name": "python3"
  },
  "language_info": {
   "codemirror_mode": {
    "name": "ipython",
    "version": 3
   },
   "file_extension": ".py",
   "mimetype": "text/x-python",
   "name": "python",
   "nbconvert_exporter": "python",
   "pygments_lexer": "ipython3",
   "version": "3.7.4"
  }
 },
 "nbformat": 4,
 "nbformat_minor": 2
}
